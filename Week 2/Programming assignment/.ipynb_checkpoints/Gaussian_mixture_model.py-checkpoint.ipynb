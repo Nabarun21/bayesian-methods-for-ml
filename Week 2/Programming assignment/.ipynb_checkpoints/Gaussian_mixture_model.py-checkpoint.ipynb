{
 "cells": [
  {
   "cell_type": "markdown",
   "metadata": {},
   "source": [
    "# Expectation-maximization algorithm"
   ]
  },
  {
   "cell_type": "markdown",
   "metadata": {},
   "source": [
    "In this assignment, we will derive and implement formulas for Gaussian Mixture Model — one of the most commonly used methods for performing soft clustering of the data. "
   ]
  },
  {
   "cell_type": "markdown",
   "metadata": {},
   "source": [
    "### Installation\n",
    "\n",
    "We will need ```numpy```, ```scikit-learn```, ```matplotlib``` libraries for this assignment"
   ]
  },
  {
   "cell_type": "code",
   "execution_count": 2,
   "metadata": {},
   "outputs": [],
   "source": [
    "import numpy as np\n",
    "from numpy.linalg import slogdet, det, solve\n",
    "import matplotlib.pyplot as plt\n",
    "import time\n",
    "from sklearn.datasets import load_digits\n",
    "from grader import Grader\n",
    "import pandas as pd\n",
    "from scipy.stats import multivariate_normal\n",
    "%matplotlib inline"
   ]
  },
  {
   "cell_type": "markdown",
   "metadata": {},
   "source": [
    "### Grading\n",
    "We will create a grader instance below and use it to collect your answers. Note that these outputs will be stored locally inside grader and will be uploaded to the platform only after running submitting function in the last part of this assignment. If you want to make a partial submission, you can run that cell anytime you want."
   ]
  },
  {
   "cell_type": "code",
   "execution_count": 6,
   "metadata": {},
   "outputs": [],
   "source": [
    "grader = Grader()"
   ]
  },
  {
   "cell_type": "markdown",
   "metadata": {},
   "source": [
    "## Implementing EM for GMM"
   ]
  },
  {
   "cell_type": "markdown",
   "metadata": {},
   "source": [
    "For debugging we will use samples from gaussian mixture model with unknown mean, variance and priors. We also added inital values of parameters for grading purposes."
   ]
  },
  {
   "cell_type": "code",
   "execution_count": 34,
   "metadata": {},
   "outputs": [
    {
     "data": {
      "image/png": "[encoded data removed]",
      "text/plain": [
       "<matplotlib.figure.Figure at 0x10a644cc0>"
      ]
     },
     "metadata": {},
     "output_type": "display_data"
    }
   ],
   "source": [
    "samples = np.load('samples.npz')\n",
    "X = samples['data']\n",
    "pi0 = samples['pi0']\n",
    "mu0 = samples['mu0']\n",
    "sigma0 = samples['sigma0']\n",
    "plt.scatter(X[:, 0], X[:, 1], c='grey')\n",
    "plt.axis('equal')\n",
    "plt.show()\n"
   ]
  },
  {
   "cell_type": "markdown",
   "metadata": {},
   "source": [
    "### Reminder"
   ]
  },
  {
   "cell_type": "markdown",
   "metadata": {},
   "source": [
    "Remember, that EM algorithm is a coordinate descent optimization of variational lower bound $\\mathcal{L}(\\theta, q) = \\int q(T) \\log\\frac{P(X, T|\\theta)}{q(T)}dT\\to \\max$.\n",
    "\n",
    "<b>E-step</b>:<br>\n",
    "$\\mathcal{L}(\\theta, q) \\to \\max\\limits_{q} \\Leftrightarrow \\mathcal{KL} [q(T) \\,\\|\\, p(T|X, \\theta)] \\to \\min \\limits_{q\\in Q} \\Rightarrow q(T) = p(T|X, \\theta)$<br>\n",
    "<b>M-step</b>:<br> \n",
    "$\\mathcal{L}(\\theta, q) \\to \\max\\limits_{\\theta} \\Leftrightarrow \\mathbb{E}_{q(T)}\\log p(X,T | \\theta) \\to \\max\\limits_{\\theta}$\n",
    "\n",
    "For GMM, $\\theta$ is a set of parameters that consists of mean vectors $\\mu_c$, covariance matrices $\\Sigma_c$ and priors $\\pi_c$ for each component.\n",
    "\n",
    "Latent variables $T$ are indices of components to which each data point is assigned. $T_i$ (cluster index for object $i$) is a binary vector with only one active bit in position corresponding to the true component. For example, if we have $C=3$ components and object $i$ lies in first component, $T_i = [1, 0, 0]$.\n",
    "\n",
    "The joint distribution can be written as follows: $p(T, X \\mid \\theta) =  \\prod\\limits_{i=1}^N p(T_i, X_i \\mid \\theta) = \\prod\\limits_{i=1}^N \\prod\\limits_{c=1}^C [\\pi_c \\mathcal{N}(X_i \\mid \\mu_c, \\Sigma_c)]^{T_{ic}}$."
   ]
  },
  {
   "cell_type": "markdown",
   "metadata": {},
   "source": [
    "### E-step\n",
    "In this step we need to estimate the posterior distribution over the latent variables with fixed values of parameters: $q(T) = p(T|X, \\theta)$. We will assume that $T_i$ (cluster index for object $i$) is a binary vector with only one '1' in position corresponding to the true component. To do so we need to compute $\\gamma_{ic} = P(T_{ic} = 1 \\mid X, \\theta)$. Note that $\\sum\\limits_{c=1}^C\\gamma_{ic}=1$.\n"
   ]
  },
  {
   "cell_type": "markdown",
   "metadata": {},
   "source": [
    "<b>Important trick 1:</b> It is important to avoid numerical errors. At some point you will have to compute the formula of the following form: $\\frac{e^{x_i}}{\\sum_j e^{x_j}}$. When you compute exponents of large numbers, you get huge numerical errors (some numbers will simply become infinity). You can avoid this by dividing numerator and denominator by $e^{\\max(x)}$: $\\frac{e^{x_i-\\max(x)}}{\\sum_j e^{x_j - \\max(x)}}$. After this transformation maximum value in the denominator will be equal to one. All other terms will contribute smaller values. This trick is called log-sum-exp. So, to compute desired formula you first subtract maximum value from each component in vector $X$ and then compute everything else as before.\n",
    "\n",
    "<b>Important trick 2:</b> You will probably need to compute formula of the form $A^{-1}x$ at some point. You would normally inverse $A$ and then multiply it by $x$. A bit faster and more numerically accurate way to do this is to solve the equation $Ay = x$. Its solution is $y=A^{-1}x$, but the equation $Ay = x$ can be solved by Gaussian elimination procedure. You can use ```np.linalg.solve``` for this.\n",
    "\n",
    "<b>Other usefull functions: </b> <a href=\"https://docs.scipy.org/doc/numpy/reference/generated/numpy.linalg.slogdet.html\">```slogdet```</a> and <a href=\"https://docs.scipy.org/doc/numpy/reference/generated/numpy.linalg.det.html#numpy.linalg.det\">```det```</a>"
   ]
  },
  {
   "cell_type": "markdown",
   "metadata": {},
   "source": [
    "<b>Task 1:</b> Implement E-step for GMM using template below."
   ]
  },
  {
   "cell_type": "code",
   "execution_count": 31,
   "metadata": {},
   "outputs": [
    {
     "name": "stdout",
     "output_type": "stream",
     "text": [
      "[[ 0.69667489  0.71533825]\n",
      " [ 0.46182599  0.81131344]\n",
      " [ 0.86347573  0.15447951]] \n",
      "\n",
      " [-0.71336192  0.90635089] \n",
      "\n",
      " [[ 1.00490413  1.89980228]\n",
      " [ 1.89980228  4.18354574]]\n",
      "\n",
      " [  7.78230665e-05   1.11460831e-03   4.62659137e-07]\n"
     ]
    }
   ],
   "source": [
    "A=np.random.rand(3,2)\n",
    "B=mu0[0]\n",
    "C=sigma0[0]\n",
    "print(A,'\\n\\n',B,'\\n\\n',C)\n",
    "\n",
    "a=multivariate_normal.pdf(A,mean=B,cov=C)\n",
    "print('\\n',a)\n",
    "b=multivariate_normal(mean=B,cov=C)\n",
    "#print(b.pdf(A))\n",
    "def E_step(X, pi, mu, sigma):\n",
    "    \"\"\"\n",
    "    Performs E-step on GMM model\n",
    "    Each input is numpy array:\n",
    "    X: (N x d), data points\n",
    "    pi: (C), mixture component weights \n",
    "    mu: (C x d), mixture component means\n",
    "    sigma: (C x d x d), mixture component covariance matrices\n",
    "    \n",
    "    Returns:\n",
    "    gamma: (N x C), probabilities of clusters for objects\n",
    "    \"\"\"\n",
    "    N = X.shape[0] # number of objects\n",
    "    C = pi.shape[0] # number of clusters\n",
    "    d = mu.shape[1] # dimension of each object\n",
    "    gamma = np.zeros((N, C)) # distribution q(T)\n",
    "    \n",
    "    for i in range(C):\n",
    "        gamma[:,i]=multivariate_normal.pdf(X,mean=mu[i],cov=sigma[i])*pi[0]\n",
    "    \n",
    "    gamma=gamma/gamma.sum(axis=1)[:,np.newaxis]\n",
    "    \n",
    "    ### YOUR CODE HERE\n",
    "    \n",
    "    return gamma\n"
   ]
  },
  {
   "cell_type": "code",
   "execution_count": 32,
   "metadata": {},
   "outputs": [
    {
     "name": "stdout",
     "output_type": "stream",
     "text": [
      "Current answer for task Task 1 (E-step) is: 0.316891098769\n"
     ]
    }
   ],
   "source": [
    "gamma = E_step(X, pi0, mu0, sigma0)\n",
    "\n",
    "#print(gamma)\n",
    "grader.submit_e_step(gamma)"
   ]
  },
  {
   "cell_type": "markdown",
   "metadata": {},
   "source": [
    "### M-step\n",
    "\n",
    "In M-step we need to maximize $\\mathbb{E}_{q(T)}\\log p(X,T | \\theta)$ with respect to $\\theta$. In our model this means that we need to find optimal values of $\\pi$, $\\mu$, $\\Sigma$. To do so, you need to compute the derivatives and \n",
    "set them to zero. You should start by deriving formulas for $\\mu$ as it is the easiest part. Then move on to $\\Sigma$. Here it is crucial to optimize function w.r.t. to $\\Lambda = \\Sigma^{-1}$ and then inverse obtained result. Finaly, to compute $\\pi$, you will need <a href=\"https://www3.nd.edu/~jstiver/FIN360/Constrained%20Optimization.pdf\">Lagrange Multipliers technique</a> to satisfy constraint $\\sum\\limits_{i=1}^{n}\\pi_i = 1$.\n",
    "\n",
    "<br>\n",
    "<b>Important note:</b> You will need to compute derivatives of scalars with respect to matrices. To refresh this technique from previous courses, see <a href=\"https://en.wikipedia.org/wiki/Matrix_calculus\"> wiki article</a> about it . Main formulas of matrix derivatives can be found in <a href=\"http://www2.imm.dtu.dk/pubdb/views/edoc_download.php/3274/pdf/imm3274.pdf\">Chapter 2 of The Matrix Cookbook</a>. For example, there you may find that $\\frac{\\partial}{\\partial A}\\log |A| = A^{-T}$.\n"
   ]
  },
  {
   "cell_type": "markdown",
   "metadata": {},
   "source": [
    "<b>Task 2:</b> Implement M-step for GMM using template below."
   ]
  },
  {
   "cell_type": "code",
   "execution_count": 89,
   "metadata": {},
   "outputs": [
    {
     "name": "stdout",
     "output_type": "stream",
     "text": [
      "[[ 1.17228095  5.75213236]\n",
      " [ 1.05443001  5.10029341]\n",
      " [ 1.21814807  5.15920217]\n",
      " [ 1.75362297  7.88315382]\n",
      " [ 2.05005447  7.38909041]\n",
      " [ 2.20779501  3.44969157]\n",
      " [ 5.29273819  3.15319415]\n",
      " [ 0.0379661   6.00430278]\n",
      " [ 0.71743114  6.13701974]\n",
      " [-1.18307081  1.58755199]\n",
      " [-0.81794496  2.63902188]\n",
      " [ 1.21663018  5.5803155 ]\n",
      " [-0.25414764  1.10080559]\n",
      " [ 3.02128295  6.09120151]\n",
      " [ 2.48589386  4.31904544]\n",
      " [ 0.06068807  3.54822919]\n",
      " [ 1.37942797 -0.16979469]\n",
      " [ 1.53537865  7.41921097]\n",
      " [-0.20733527  1.30016067]\n",
      " [ 3.14906787  5.85690104]] \n",
      "\n",
      " [ 0.3451814   0.6066179   0.04820071] \n",
      "\n",
      " [[-0.71336192  0.90635089]\n",
      " [ 0.76623673  0.82605407]\n",
      " [-1.32368279 -1.75244452]] \n",
      "\n",
      " [[[ 1.00490413  1.89980228]\n",
      "  [ 1.89980228  4.18354574]]\n",
      "\n",
      " [[ 1.96867815  0.78415336]\n",
      "  [ 0.78415336  1.83319942]]\n",
      "\n",
      " [[ 0.19316335 -0.11648642]\n",
      "  [-0.11648642  1.98395967]]]\n",
      "\n",
      "\n",
      "gamma\n",
      " [[  9.94276163e-01   5.72383707e-03   1.80616145e-15]\n",
      " [  9.87246842e-01   1.27531579e-02   7.75320649e-14]\n",
      " [  9.87494070e-01   1.25059301e-02   4.80943569e-15]\n",
      " [  9.99698913e-01   3.01086765e-04   5.64174196e-23]\n",
      " [  9.99705374e-01   2.94625561e-04   2.32357190e-25]\n",
      " [  1.20174053e-04   9.99879826e-01   1.45795586e-19]\n",
      " [  2.64890701e-36   1.00000000e+00   3.64585160e-56]\n",
      " [  2.82609593e-01   7.17388805e-01   1.60176297e-06]\n",
      " [  9.76855936e-01   2.31440637e-02   5.67381802e-12]\n",
      " [  4.54631617e-01   3.16891099e-01   2.28477284e-01]\n",
      " [  5.48750600e-01   4.24836690e-01   2.64127104e-02]\n",
      " [  9.93301100e-01   6.69890041e-03   1.31748626e-15]\n",
      " [  6.74287203e-01   3.22763734e-01   2.94906310e-03]\n",
      " [  1.76201104e-01   8.23798896e-01   1.01622102e-30]\n",
      " [  1.10261518e-03   9.98897385e-01   4.40367768e-23]\n",
      " [  9.18961182e-01   8.10369136e-02   1.90393930e-06]\n",
      " [  2.36606804e-10   9.99999998e-01   2.13808333e-09]\n",
      " [  9.99188439e-01   8.11561388e-04   2.58185294e-20]\n",
      " [  7.09538182e-01   2.89050235e-01   1.41158291e-03]\n",
      " [  1.25399282e-02   9.87460072e-01   8.14577195e-32]]\n",
      "[[ 0.3195004   0.63012161]\n",
      " [ 0.20164945 -0.02171733]\n",
      " [ 0.36536752  0.03719143]\n",
      " [ 0.90084242  2.76114307]\n",
      " [ 1.19727392  2.26707966]\n",
      " [ 1.35501446 -1.67231917]\n",
      " [ 4.43995764 -1.96881659]\n",
      " [-0.81481446  0.88229204]\n",
      " [-0.13534942  1.01500899]\n",
      " [-2.03585137 -3.53445875]\n",
      " [-1.67072552 -2.48298886]\n",
      " [ 0.36384962  0.45830476]\n",
      " [-1.1069282  -4.02120515]\n",
      " [ 2.16850239  0.96919077]\n",
      " [ 1.63311331 -0.8029653 ]\n",
      " [-0.79209248 -1.57378155]\n",
      " [ 0.52664742 -5.29180544]\n",
      " [ 0.6825981   2.29720022]\n",
      " [-1.06011583 -3.82185007]\n",
      " [ 2.29628732  0.73489029]]\n",
      "sig [[[  1.02080503e-01   4.06625023e-02   1.33493421e-01   8.11517062e-01\n",
      "     1.43346483e+00   1.83606418e+00   1.97132238e+01   6.63922597e-01\n",
      "     1.83194654e-02   4.14469078e+00   2.79132375e+00   1.32386549e-01\n",
      "     1.22529004e+00   4.70240262e+00   2.66705907e+00   6.27410498e-01\n",
      "     2.77357502e-01   4.65940163e-01   1.12384556e+00   5.27293544e+00]\n",
      "  [  2.01324105e-01  -4.37928765e-03   1.35885403e-02   2.48735480e+00\n",
      "     2.71431535e+00  -2.26601665e+00  -8.74146226e+00  -7.18904306e-01\n",
      "    -1.37380878e-01   7.19563268e+00   4.14839285e+00   1.66754015e-01\n",
      "     4.45118538e+00   2.10169250e+00  -1.31133331e+00   1.24658053e+00\n",
      "    -2.78691567e+00   1.56806450e+00   4.05160374e+00   1.68751926e+00]]\n",
      "\n",
      " [[  2.01324105e-01  -4.37928765e-03   1.35885403e-02   2.48735480e+00\n",
      "     2.71431535e+00  -2.26601665e+00  -8.74146226e+00  -7.18904306e-01\n",
      "    -1.37380878e-01   7.19563268e+00   4.14839285e+00   1.66754015e-01\n",
      "     4.45118538e+00   2.10169250e+00  -1.31133331e+00   1.24658053e+00\n",
      "    -2.78691567e+00   1.56806450e+00   4.05160374e+00   1.68751926e+00]\n",
      "  [  3.97053247e-01   4.71642404e-04   1.38320245e-03   7.62391106e+00\n",
      "     5.13965021e+00   2.79665141e+00   3.87623877e+00   7.78439240e-01\n",
      "     1.03024326e+00   1.24923987e+01   6.16523370e+00   2.10043253e-01\n",
      "     1.61700909e+01   9.39330745e-01   6.44753272e-01   2.47678837e+00\n",
      "     2.80032048e+01   5.27712887e+00   1.46065380e+01   5.40063742e-01]]] (2, 2, 20)\n",
      "[[[  9.94276163e-01]]\n",
      "\n",
      " [[  9.87246842e-01]]\n",
      "\n",
      " [[  9.87494070e-01]]\n",
      "\n",
      " [[  9.99698913e-01]]\n",
      "\n",
      " [[  9.99705374e-01]]\n",
      "\n",
      " [[  1.20174053e-04]]\n",
      "\n",
      " [[  2.64890701e-36]]\n",
      "\n",
      " [[  2.82609593e-01]]\n",
      "\n",
      " [[  9.76855936e-01]]\n",
      "\n",
      " [[  4.54631617e-01]]\n",
      "\n",
      " [[  5.48750600e-01]]\n",
      "\n",
      " [[  9.93301100e-01]]\n",
      "\n",
      " [[  6.74287203e-01]]\n",
      "\n",
      " [[  1.76201104e-01]]\n",
      "\n",
      " [[  1.10261518e-03]]\n",
      "\n",
      " [[  9.18961182e-01]]\n",
      "\n",
      " [[  2.36606804e-10]]\n",
      "\n",
      " [[  9.99188439e-01]]\n",
      "\n",
      " [[  7.09538182e-01]]\n",
      "\n",
      " [[  1.25399282e-02]]]\n",
      "[[[  9.94276163e-01   9.87246842e-01   9.87494070e-01   9.99698913e-01\n",
      "     9.99705374e-01   1.20174053e-04   2.64890701e-36   2.82609593e-01\n",
      "     9.76855936e-01   4.54631617e-01   5.48750600e-01   9.93301100e-01\n",
      "     6.74287203e-01   1.76201104e-01   1.10261518e-03   9.18961182e-01\n",
      "     2.36606804e-10   9.99188439e-01   7.09538182e-01   1.25399282e-02]]]\n",
      "sig2 [[[  1.01496211e-01   4.01439270e-02   1.31823962e-01   8.11272725e-01\n",
      "     1.43304250e+00   2.20647273e-04   5.22184968e-35   1.87630895e-01\n",
      "     1.78954785e-02   1.88430747e+00   1.53174058e+00   1.31499705e-01\n",
      "     8.26197393e-01   8.28568534e-01   2.94073981e-03   5.76565893e-01\n",
      "     6.56246721e-11   4.65562024e-01   7.97411339e-01   6.61222316e-02]\n",
      "  [  2.00171759e-01  -4.32343790e-03   1.34186030e-02   2.48660589e+00\n",
      "     2.71351565e+00  -2.72316405e-04  -2.31553206e-35  -2.03169254e-01\n",
      "    -1.34201327e-01   3.27136212e+00   2.27643307e+00   1.65636946e-01\n",
      "     3.00137734e+00   3.70320539e-01  -1.44589601e-03   1.14555912e+00\n",
      "    -6.59403208e-10   1.56679192e+00   2.87476756e+00   2.11613703e-02]]\n",
      "\n",
      " [[  2.00171759e-01  -4.32343790e-03   1.34186030e-02   2.48660589e+00\n",
      "     2.71351565e+00  -2.72316405e-04  -2.31553206e-35  -2.03169254e-01\n",
      "    -1.34201327e-01   3.27136212e+00   2.27643307e+00   1.65636946e-01\n",
      "     3.00137734e+00   3.70320539e-01  -1.44589601e-03   1.14555912e+00\n",
      "    -6.59403208e-10   1.56679192e+00   2.87476756e+00   2.11613703e-02]\n",
      "  [  3.94780578e-01   4.65627474e-04   1.36590422e-03   7.62161560e+00\n",
      "     5.13813593e+00   3.36084934e-04   1.02677960e-35   2.19994397e-01\n",
      "     1.00639924e+00   5.67943942e+00   3.38317569e+00   2.08636194e-01\n",
      "     1.09032854e+01   1.65511115e-01   7.10914743e-04   2.27607237e+00\n",
      "     6.62574878e-09   5.27284616e+00   1.03638964e+01   6.77236052e-03]]] (2, 2, 20)\n",
      "[[  9.83444226  19.76370965]\n",
      " [ 19.76370965  52.64343934]]\n",
      "11.7165090369\n",
      "[[-0.84556548  2.1566349 ]\n",
      " [-0.96341643  1.50479596]\n",
      " [-0.79969836  1.56370472]\n",
      " [-0.26422346  4.28765636]\n",
      " [ 0.03220804  3.79359295]\n",
      " [ 0.18994858 -0.14580588]\n",
      " [ 3.27489176 -0.4423033 ]\n",
      " [-1.97988033  2.40880533]\n",
      " [-1.3004153   2.54152228]\n",
      " [-3.20091725 -2.00794547]\n",
      " [-2.8357914  -0.95647558]\n",
      " [-0.80121625  1.98481805]\n",
      " [-2.27199408 -2.49469187]\n",
      " [ 1.00343651  2.49570406]\n",
      " [ 0.46804743  0.72354799]\n",
      " [-1.95715836 -0.04726826]\n",
      " [-0.63841846 -3.76529215]\n",
      " [-0.48246778  3.82371351]\n",
      " [-2.2251817  -2.29533678]\n",
      " [ 1.13122144  2.26140358]]\n",
      "sig [[[  7.14980985e-01   9.28171208e-01   6.39517473e-01   6.98140374e-02\n",
      "     1.03735777e-03   3.60804622e-02   1.07249160e+01   3.91992614e+00\n",
      "     1.69107995e+00   1.02458712e+01   8.04171284e+00   6.41947487e-01\n",
      "     5.16195709e+00   1.00688483e+00   2.19068393e-01   3.83046885e+00\n",
      "     4.07578132e-01   2.32775160e-01   4.95143362e+00   1.27966194e+00]\n",
      "  [ -1.82357603e+00  -1.44974514e+00  -1.25049210e+00  -1.13289940e+00\n",
      "     1.22184189e-01  -2.76956199e-02  -1.44849544e+00  -4.76914629e+00\n",
      "    -3.30503446e+00   6.42726727e+00   2.71236521e+00  -1.59026848e+00\n",
      "     5.66792515e+00   2.50428057e+00   3.38654773e-01   9.25114747e-02\n",
      "     2.40383202e+00  -1.84481857e+00   5.10754142e+00   2.55814821e+00]]\n",
      "\n",
      " [[ -1.82357603e+00  -1.44974514e+00  -1.25049210e+00  -1.13289940e+00\n",
      "     1.22184189e-01  -2.76956199e-02  -1.44849544e+00  -4.76914629e+00\n",
      "    -3.30503446e+00   6.42726727e+00   2.71236521e+00  -1.59026848e+00\n",
      "     5.66792515e+00   2.50428057e+00   3.38654773e-01   9.25114747e-02\n",
      "     2.40383202e+00  -1.84481857e+00   5.10754142e+00   2.55814821e+00]\n",
      "  [  4.65107409e+00   2.26441088e+00   2.44517244e+00   1.83839971e+01\n",
      "     1.43913475e+01   2.12593553e-02   1.95632211e-01   5.80234310e+00\n",
      "     6.45933551e+00   4.03184500e+00   9.14845529e-01   3.93950268e+00\n",
      "     6.22348750e+00   6.22853873e+00   5.23521691e-01   2.23428862e-03\n",
      "     1.41774250e+01   1.46207850e+01   5.26857095e+00   5.11394615e+00]]] (2, 2, 20)\n",
      "[[[  5.72383707e-03]]\n",
      "\n",
      " [[  1.27531579e-02]]\n",
      "\n",
      " [[  1.25059301e-02]]\n",
      "\n",
      " [[  3.01086765e-04]]\n",
      "\n",
      " [[  2.94625561e-04]]\n",
      "\n",
      " [[  9.99879826e-01]]\n",
      "\n",
      " [[  1.00000000e+00]]\n",
      "\n",
      " [[  7.17388805e-01]]\n",
      "\n",
      " [[  2.31440637e-02]]\n",
      "\n",
      " [[  3.16891099e-01]]\n",
      "\n",
      " [[  4.24836690e-01]]\n",
      "\n",
      " [[  6.69890041e-03]]\n",
      "\n",
      " [[  3.22763734e-01]]\n",
      "\n",
      " [[  8.23798896e-01]]\n",
      "\n",
      " [[  9.98897385e-01]]\n",
      "\n",
      " [[  8.10369136e-02]]\n",
      "\n",
      " [[  9.99999998e-01]]\n",
      "\n",
      " [[  8.11561388e-04]]\n",
      "\n",
      " [[  2.89050235e-01]]\n",
      "\n",
      " [[  9.87460072e-01]]]\n",
      "[[[  5.72383707e-03   1.27531579e-02   1.25059301e-02   3.01086765e-04\n",
      "     2.94625561e-04   9.99879826e-01   1.00000000e+00   7.17388805e-01\n",
      "     2.31440637e-02   3.16891099e-01   4.24836690e-01   6.69890041e-03\n",
      "     3.22763734e-01   8.23798896e-01   9.98897385e-01   8.10369136e-02\n",
      "     9.99999998e-01   8.11561388e-04   2.89050235e-01   9.87460072e-01]]]\n",
      "sig2 [[[  4.09243467e-03   1.18371140e-02   7.99776084e-03   2.10200827e-05\n",
      "     3.05632114e-07   3.60761262e-02   1.07249160e+01   2.81211113e+00\n",
      "     3.91384621e-02   3.24682539e+00   3.41641467e+00   4.30034228e-03\n",
      "     1.66609255e+00   8.29470612e-01   2.18826845e-01   3.10409373e-01\n",
      "     4.07578131e-01   1.88911332e-04   1.43121305e+00   1.26361507e+00]\n",
      "  [ -1.04378521e-02  -1.84888287e-02  -1.56385669e-02  -3.41101016e-04\n",
      "     3.59985853e-05  -2.76922916e-02  -1.44849544e+00  -3.42133216e+00\n",
      "    -7.64919281e-02   2.03674379e+00   1.15231226e+00  -1.06530502e-02\n",
      "     1.82940068e+00   2.06302357e+00   3.38281368e-01   7.49684438e-03\n",
      "     2.40383202e+00  -1.49718352e-03   1.47633605e+00   2.52606922e+00]]\n",
      "\n",
      " [[ -1.04378521e-02  -1.84888287e-02  -1.56385669e-02  -3.41101016e-04\n",
      "     3.59985853e-05  -2.76922916e-02  -1.44849544e+00  -3.42133216e+00\n",
      "    -7.64919281e-02   2.03674379e+00   1.15231226e+00  -1.06530502e-02\n",
      "     1.82940068e+00   2.06302357e+00   3.38281368e-01   7.49684438e-03\n",
      "     2.40383202e+00  -1.49718352e-03   1.47633605e+00   2.52606922e+00]\n",
      "  [  2.66219903e-02   2.88783895e-02   3.05791557e-02   5.53517820e-03\n",
      "     4.24005883e-03   2.12568005e-02   1.95632211e-01   4.16253598e+00\n",
      "     1.49495273e-01   1.27765579e+00   3.88659946e-01   2.63903361e-02\n",
      "     2.00871606e+00   5.13106333e+00   5.22944448e-01   1.81059854e-04\n",
      "     1.41774249e+01   1.18656646e-02   1.52288167e+00   5.04981763e+00]]] (2, 2, 20)\n",
      "[[ 26.43112533   8.80246339]\n",
      " [  8.80246339  34.74237592]]\n",
      "8.02423681499\n",
      "[[ 2.30225685  4.06451697]\n",
      " [ 2.1844059   3.41267803]\n",
      " [ 2.34812396  3.47158679]\n",
      " [ 2.88359887  6.19553843]\n",
      " [ 3.18003037  5.70147502]\n",
      " [ 3.33777091  1.76207619]\n",
      " [ 6.42271409  1.46557877]\n",
      " [ 1.16794199  4.31668739]\n",
      " [ 1.84740703  4.44940435]\n",
      " [-0.05309492 -0.1000634 ]\n",
      " [ 0.31203093  0.95140649]\n",
      " [ 2.34660607  3.89270012]\n",
      " [ 0.87582825 -0.5868098 ]\n",
      " [ 4.15125884  4.40358612]\n",
      " [ 3.61586975  2.63143006]\n",
      " [ 1.19066397  1.86061381]\n",
      " [ 2.50940387 -1.85741008]\n",
      " [ 2.66535455  5.73159558]\n",
      " [ 0.92264062 -0.38745472]\n",
      " [ 4.27904377  4.16928565]]\n",
      "sig [[[  5.30038659e+00   4.77162915e+00   5.51368615e+00   8.31514243e+00\n",
      "     1.01125931e+01   1.11407146e+01   4.12512563e+01   1.36408850e+00\n",
      "     3.41291273e+00   2.81907014e-03   9.73633028e-02   5.50656007e+00\n",
      "     7.67075124e-01   1.72329500e+01   1.30745141e+01   1.41768069e+00\n",
      "     6.29710777e+00   7.10411487e+00   8.51265721e-01   1.83102156e+01]\n",
      "  [  9.35756202e+00   7.45467403e+00   8.15171613e+00   1.78654476e+01\n",
      "     1.81308637e+01   5.88140663e+00   9.41299339e+00   5.04164048e+00\n",
      "     8.21986088e+00   5.31285775e-03   2.96868255e-01   9.13463374e+00\n",
      "    -5.13944597e-01   1.82804258e+01   9.51490835e+00   2.21536582e+00\n",
      "    -4.66099204e+00   1.52767343e+01  -3.57481460e-01   1.78405558e+01]]\n",
      "\n",
      " [[  9.35756202e+00   7.45467403e+00   8.15171613e+00   1.78654476e+01\n",
      "     1.81308637e+01   5.88140663e+00   9.41299339e+00   5.04164048e+00\n",
      "     8.21986088e+00   5.31285775e-03   2.96868255e-01   9.13463374e+00\n",
      "    -5.13944597e-01   1.82804258e+01   9.51490835e+00   2.21536582e+00\n",
      "    -4.66099204e+00   1.52767343e+01  -3.57481460e-01   1.78405558e+01]\n",
      "  [  1.65202982e+01   1.16463713e+01   1.20519148e+01   3.83846964e+01\n",
      "     3.25068174e+01   3.10491249e+00   2.14792112e+00   1.86337901e+01\n",
      "     1.97971991e+01   1.00126837e-02   9.05174313e-01   1.51531142e+01\n",
      "     3.44345737e-01   1.93915708e+01   6.92442414e+00   3.46188374e+00\n",
      "     3.44997221e+00   3.28511879e+01   1.50121156e-01   1.73829428e+01]]] (2, 2, 20)\n",
      "[[[  1.80616145e-15]]\n",
      "\n",
      " [[  7.75320649e-14]]\n",
      "\n",
      " [[  4.80943569e-15]]\n",
      "\n",
      " [[  5.64174196e-23]]\n",
      "\n",
      " [[  2.32357190e-25]]\n",
      "\n",
      " [[  1.45795586e-19]]\n",
      "\n",
      " [[  3.64585160e-56]]\n",
      "\n",
      " [[  1.60176297e-06]]\n",
      "\n",
      " [[  5.67381802e-12]]\n",
      "\n",
      " [[  2.28477284e-01]]\n",
      "\n",
      " [[  2.64127104e-02]]\n",
      "\n",
      " [[  1.31748626e-15]]\n",
      "\n",
      " [[  2.94906310e-03]]\n",
      "\n",
      " [[  1.01622102e-30]]\n",
      "\n",
      " [[  4.40367768e-23]]\n",
      "\n",
      " [[  1.90393930e-06]]\n",
      "\n",
      " [[  2.13808333e-09]]\n",
      "\n",
      " [[  2.58185294e-20]]\n",
      "\n",
      " [[  1.41158291e-03]]\n",
      "\n",
      " [[  8.14577195e-32]]]\n",
      "[[[  1.80616145e-15   7.75320649e-14   4.80943569e-15   5.64174196e-23\n",
      "     2.32357190e-25   1.45795586e-19   3.64585160e-56   1.60176297e-06\n",
      "     5.67381802e-12   2.28477284e-01   2.64127104e-02   1.31748626e-15\n",
      "     2.94906310e-03   1.01622102e-30   4.40367768e-23   1.90393930e-06\n",
      "     2.13808333e-09   2.58185294e-20   1.41158291e-03   8.14577195e-32]]]\n",
      "sig2 [[[  9.57335394e-15   3.69954261e-13   2.65177190e-14   4.69118879e-22\n",
      "     2.34973373e-24   1.62426702e-18   1.50395959e-54   2.18494645e-06\n",
      "     1.93642458e-11   6.44093488e-04   2.57162872e-03   7.25481723e-15\n",
      "     2.26215294e-03   1.75124859e-29   5.75759458e-22   2.69917798e-06\n",
      "     1.34637411e-08   1.83417798e-19   1.20163215e-03   1.49150840e-30]\n",
      "  [  1.69012678e-14   5.77976271e-13   3.92051545e-14   1.00792245e-21\n",
      "     4.21283655e-24   8.57483129e-19   3.43183770e-55   8.07551303e-06\n",
      "     4.66379948e-11   1.21386731e-03   7.84109524e-03   1.20347544e-14\n",
      "    -1.51565505e-03   1.85769529e-29   4.19005895e-22   4.21792205e-06\n",
      "    -9.96558936e-09   3.94422814e-19  -5.04614720e-04   1.45325099e-30]]\n",
      "\n",
      " [[  1.69012678e-14   5.77976271e-13   3.92051545e-14   1.00792245e-21\n",
      "     4.21283655e-24   8.57483129e-19   3.43183770e-55   8.07551303e-06\n",
      "     4.66379948e-11   1.21386731e-03   7.84109524e-03   1.20347544e-14\n",
      "    -1.51565505e-03   1.85769529e-29   4.19005895e-22   4.21792205e-06\n",
      "    -9.96558936e-09   3.94422814e-19  -5.04614720e-04   1.45325099e-30]\n",
      "  [  2.98383258e-14   9.02967217e-13   5.79629093e-14   2.16556552e-21\n",
      "     7.55319277e-24   4.52682537e-19   7.83100165e-56   2.98469149e-05\n",
      "     1.12325705e-10   2.28767076e-03   2.39081070e-02   1.99640197e-14\n",
      "     1.01549731e-03   1.97061218e-29   3.04929320e-22   6.59121651e-06\n",
      "     7.37632806e-09   8.48169359e-19   2.11908459e-04   1.41597488e-30]]] (2, 2, 20)\n",
      "[[ 0.0066844   0.00704698]\n",
      " [ 0.00704698  0.02745963]]\n",
      "0.259254148118\n"
     ]
    },
    {
     "data": {
      "text/plain": [
       "(0, array([[ 0.85278056,  5.12201074],\n",
       "        [ 2.01784643,  3.59549746],\n",
       "        [-1.12997589,  1.68761539]]), array([[[ 0.83936625,  1.68682579],\n",
       "         [ 1.68682579,  4.49309937]],\n",
       " \n",
       "        [[ 3.29391143,  1.0969845 ],\n",
       "         [ 1.0969845 ,  4.32967978]],\n",
       " \n",
       "        [[ 0.02578321,  0.02718173],\n",
       "         [ 0.02718173,  0.1059178 ]]]))"
      ]
     },
     "execution_count": 89,
     "metadata": {},
     "output_type": "execute_result"
    }
   ],
   "source": [
    "\n",
    "A=X[0:20]\n",
    "print(A,'\\n\\n',pi0,'\\n\\n',mu0,'\\n\\n',sigma0)\n",
    "gamma0=E_step(A, pi0, mu0, sigma0)\n",
    "print('\\n')\n",
    "print('gamma\\n',gamma0)\n",
    "\n",
    "def M_step(X, gamma):\n",
    "    \"\"\"\n",
    "    Performs M-step on GMM model\n",
    "    Each input is numpy array:\n",
    "    X: (N x d), data points\n",
    "    gamma: (N x C), distribution q(T)  \n",
    "    \n",
    "    Returns:\n",
    "    pi: (C)\n",
    "    mu: (C x d)\n",
    "    sigma: (C x d x d)\n",
    "    \"\"\"\n",
    "    N = X.shape[0] # number of objects\n",
    "    C = gamma.shape[1] # number of clusters\n",
    "    d = X.shape[1] # dimension of each object\n",
    "    P_X_given_T=np.zeros_like(gamma)\n",
    "    mu=np.zeros([C,d])\n",
    "    pi=0\n",
    "    ret_sigma=np.zeros([C,d,d])\n",
    "    \n",
    "    for i in range(C):\n",
    "        \n",
    "        mu_sum=np.sum(X*gamma[:,i][:,np.newaxis],axis=0)\n",
    "        gamma_sum=np.sum(gamma[:,i])\n",
    "        #print(gamma_sum)\n",
    "        mu[i,:]=mu_sum/gamma_sum\n",
    "\n",
    "        #for i in range(C): \n",
    "        print(X-mu[i])\n",
    "        temp=np.transpose(np.reshape((X-mu[i]),[X.shape[0],X.shape[1],1]),(2,1,0))\n",
    "        #print('temp',temp,temp.shape)\n",
    "        #print(np.transpose(temp,(1,0,2)).shape)\n",
    "        #print()\n",
    "        \n",
    "        sigma=np.transpose(temp,(1,0,2))*temp\n",
    "        #print('sig',sigma,sigma.shape)\n",
    "        #print(np.reshape(gamma[:,i],[gamma.shape[0],1,1]))\n",
    "        #print(np.transpose(np.reshape(gamma[:,i],[gamma.shape[0],1,1]),(2,1,0)))\n",
    "        \n",
    "        sigma_gamma=sigma*np.transpose(np.reshape(gamma[:,i],[gamma.shape[0],1,1]),(2,1,0))\n",
    "        #print('sig2',sigma_gamma,sigma_gamma.shape)\n",
    "        \n",
    "        sigma_gamma_sum=np.sum(sigma_gamma,axis=2)\n",
    "        #print(sigma_gamma_sum)\n",
    "        \n",
    "        gamma_sum=np.sum(gamma[:,i])\n",
    "       # print(gamma_sum)\n",
    "    \n",
    "        ret_sigma[i,:,:]=sigma_gamma_sum/gamma_sum\n",
    "        #print(X*gamma)\n",
    "    \n",
    "    \n",
    "    return pi, mu, ret_sigma\n",
    "M_step(A, gamma0)"
   ]
  },
  {
   "cell_type": "code",
   "execution_count": null,
   "metadata": {
    "collapsed": true
   },
   "outputs": [],
   "source": [
    "gamma = E_step(X, pi0, mu0, sigma0)\n",
    "pi, mu, sigma = M_step(X, gamma)\n",
    "grader.submit_m_step(pi, mu, sigma)"
   ]
  },
  {
   "cell_type": "markdown",
   "metadata": {},
   "source": [
    "### Loss function"
   ]
  },
  {
   "cell_type": "markdown",
   "metadata": {},
   "source": [
    "Finally, we need some function to track convergence. We will use variational lower bound $\\mathcal{L}$ for this purpose. We will stop our EM iterations when $\\mathcal{L}$ will saturate. Usually, you will need only about 10-20 iterations to converge. It is also useful to check that this function never decreases during training. If it does, you have a bug in your code.\n",
    "\n",
    "<b>Task 3:</b> Implement a function that will compute $\\mathcal{L}$ using template below.\n",
    "\n",
    "$$\\mathcal{L} = \\sum_{n=1}^{N} \\sum_{k=1}^{K} \\mathbb{E}[z_{n, k}] (\\log \\pi_k + \\log \\mathcal{N}(x_n | \\mu_k, \\sigma_k)) - \\sum_{n=1}^{N} \\sum_{k=1}^{K} \\mathbb{E}[z_{n, k}] \\log \\mathbb{E}[z_{n, k}]$$"
   ]
  },
  {
   "cell_type": "code",
   "execution_count": null,
   "metadata": {
    "collapsed": true
   },
   "outputs": [],
   "source": [
    "def compute_vlb(X, pi, mu, sigma, gamma):\n",
    "    \"\"\"\n",
    "    Each input is numpy array:\n",
    "    X: (N x d), data points\n",
    "    gamma: (N x C), distribution q(T)  \n",
    "    pi: (C)\n",
    "    mu: (C x d)\n",
    "    sigma: (C x d x d)\n",
    "    \n",
    "    Returns value of variational lower bound\n",
    "    \"\"\"\n",
    "    N = X.shape[0] # number of objects\n",
    "    C = gamma.shape[1] # number of clusters\n",
    "    d = X.shape[1] # dimension of each object\n",
    "\n",
    "    \n",
    "    \n",
    "    ### YOUR CODE HERE\n",
    "\n",
    "    return loss"
   ]
  },
  {
   "cell_type": "code",
   "execution_count": null,
   "metadata": {
    "collapsed": true
   },
   "outputs": [],
   "source": [
    "pi, mu, sigma = pi0, mu0, sigma0\n",
    "gamma = E_step(X, pi, mu, sigma)\n",
    "pi, mu, sigma = M_step(X, gamma)\n",
    "loss = compute_vlb(X, pi, mu, sigma, gamma)\n",
    "grader.submit_VLB(loss)"
   ]
  },
  {
   "cell_type": "markdown",
   "metadata": {},
   "source": [
    "### Bringing it all together"
   ]
  },
  {
   "cell_type": "markdown",
   "metadata": {},
   "source": [
    "Now that we have E step, M step and VLB, we can implement training loop. We will start at random values of $\\pi$, $\\mu$ and $\\Sigma$, train until $\\mathcal{L}$ stops changing and return the resulting points. We also know that EM algorithm sometimes stops at local optima. To avoid this we should restart algorithm multiple times from different starting positions. Each training trial should stop either when maximum number of iterations is reached or when relative improvement is smaller than given tolerance ($|\\frac{\\mathcal{L}_i-\\mathcal{L}_{i-1}}{\\mathcal{L}_{i-1}}| \\le \\text{rtol}$).\n",
    "\n",
    "Remember, that values of $\\pi$ that you generate must be non-negative and sum up to 1. Also, $\\Sigma$ matrices must be symmetric and positive semi-definite. If you don't know how to generate those matrices, you can use $\\Sigma=I$ as initialization.\n",
    "\n",
    "You will also sometimes get numerical errors because of component collapsing. The easiest way to deal with this problems is to simply restart the procedure.\n",
    "\n",
    "<b>Task 4:</b> Implement training procedure"
   ]
  },
  {
   "cell_type": "code",
   "execution_count": null,
   "metadata": {
    "collapsed": true
   },
   "outputs": [],
   "source": [
    "def train_EM(X, C, rtol=1e-3, max_iter=100, restarts=10):\n",
    "    '''\n",
    "    Starts with random initialization *restarts* times\n",
    "    Runs optimization until saturation with *rtol* reached\n",
    "    or *max_iter* iterations were made.\n",
    "    \n",
    "    X: (N, d), data points\n",
    "    C: int, number of clusters\n",
    "    '''\n",
    "    N = X.shape[0] # number of objects\n",
    "    d = X.shape[1] # dimension of each object\n",
    "    best_loss = None\n",
    "    best_pi = None\n",
    "    best_mu = None\n",
    "    best_sigma = None\n",
    "\n",
    "    for _ in range(restarts):\n",
    "        try:\n",
    "            ### YOUR CODE HERE\n",
    "\n",
    "        except np.linalg.LinAlgError:\n",
    "            print(\"Singular matrix: components collapsed\")\n",
    "            pass\n",
    "\n",
    "    return best_loss, best_pi, best_mu, best_sigma"
   ]
  },
  {
   "cell_type": "code",
   "execution_count": null,
   "metadata": {
    "collapsed": true
   },
   "outputs": [],
   "source": [
    "best_loss, best_pi, best_mu, best_sigma = train_EM(X, 3)\n",
    "grader.submit_EM(best_loss)"
   ]
  },
  {
   "cell_type": "markdown",
   "metadata": {},
   "source": [
    "If you implemented all the steps correctly, your algorithm should converge in about 20 iterations. Let's plot the clusters to see it. We will assign a cluster label as the most probable cluster index. This can be found using matrix $\\gamma$ computed on last E-step. \n"
   ]
  },
  {
   "cell_type": "code",
   "execution_count": null,
   "metadata": {
    "collapsed": true
   },
   "outputs": [],
   "source": [
    "gamma = E_step(X, best_pi, best_mu, best_sigma)\n",
    "labels = gamma.argmax(1)\n",
    "plt.scatter(X[:, 0], X[:, 1], c=labels, s=30)\n",
    "plt.axis('equal')\n",
    "plt.show()"
   ]
  },
  {
   "cell_type": "markdown",
   "metadata": {},
   "source": [
    "### Authorization & Submission\n",
    "To submit assignment parts to Cousera platform, please, enter your e-mail and your token into variables below. You can generate the token on this programming assignment page. <b>Note:</b> Token expires 30 minutes after generation."
   ]
  },
  {
   "cell_type": "code",
   "execution_count": null,
   "metadata": {
    "collapsed": true
   },
   "outputs": [],
   "source": [
    "STUDENT_EMAIL = # EMAIL HERE\n",
    "STUDENT_TOKEN = # TOKEN HERE\n",
    "grader.status()"
   ]
  },
  {
   "cell_type": "markdown",
   "metadata": {},
   "source": [
    "If you want to submit these answers, run cell below"
   ]
  },
  {
   "cell_type": "code",
   "execution_count": null,
   "metadata": {
    "collapsed": true
   },
   "outputs": [],
   "source": [
    "grader.submit(STUDENT_EMAIL, STUDENT_TOKEN)"
   ]
  }
 ],
 "metadata": {
  "kernelspec": {
   "display_name": "tflow",
   "language": "python",
   "name": "tensorflow"
  },
  "language_info": {
   "codemirror_mode": {
    "name": "ipython",
    "version": 3
   },
   "file_extension": ".py",
   "mimetype": "text/x-python",
   "name": "python",
   "nbconvert_exporter": "python",
   "pygments_lexer": "ipython3",
   "version": "3.6.2"
  },
  "latex_envs": {
   "bibliofile": "biblio.bib",
   "cite_by": "apalike",
   "current_citInitial": 1,
   "eqLabelWithNumbers": true,
   "eqNumInitial": 0
  }
 },
 "nbformat": 4,
 "nbformat_minor": 2
}
