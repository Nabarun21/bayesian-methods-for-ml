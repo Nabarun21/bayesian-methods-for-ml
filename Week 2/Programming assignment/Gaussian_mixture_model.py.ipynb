{
 "cells": [
  {
   "cell_type": "markdown",
   "metadata": {},
   "source": [
    "# Expectation-maximization algorithm"
   ]
  },
  {
   "cell_type": "markdown",
   "metadata": {},
   "source": [
    "In this assignment, we will derive and implement formulas for Gaussian Mixture Model — one of the most commonly used methods for performing soft clustering of the data. "
   ]
  },
  {
   "cell_type": "markdown",
   "metadata": {},
   "source": [
    "### Installation\n",
    "\n",
    "We will need ```numpy```, ```scikit-learn```, ```matplotlib``` libraries for this assignment"
   ]
  },
  {
   "cell_type": "code",
   "execution_count": 1,
   "metadata": {},
   "outputs": [],
   "source": [
    "import numpy as np\n",
    "from numpy.linalg import slogdet, det, solve\n",
    "import matplotlib.pyplot as plt\n",
    "import time\n",
    "from sklearn.datasets import load_digits\n",
    "from grader import Grader\n",
    "import pandas as pd\n",
    "from scipy.stats import multivariate_normal\n",
    "%matplotlib inline"
   ]
  },
  {
   "cell_type": "markdown",
   "metadata": {},
   "source": [
    "### Grading\n",
    "We will create a grader instance below and use it to collect your answers. Note that these outputs will be stored locally inside grader and will be uploaded to the platform only after running submitting function in the last part of this assignment. If you want to make a partial submission, you can run that cell anytime you want."
   ]
  },
  {
   "cell_type": "code",
   "execution_count": 2,
   "metadata": {},
   "outputs": [],
   "source": [
    "grader = Grader()"
   ]
  },
  {
   "cell_type": "markdown",
   "metadata": {},
   "source": [
    "## Implementing EM for GMM"
   ]
  },
  {
   "cell_type": "markdown",
   "metadata": {},
   "source": [
    "For debugging we will use samples from gaussian mixture model with unknown mean, variance and priors. We also added inital values of parameters for grading purposes."
   ]
  },
  {
   "cell_type": "code",
   "execution_count": 22,
   "metadata": {},
   "outputs": [
    {
     "data": {
      "image/png": "[encoded data removed]",
      "text/plain": [
       "<matplotlib.figure.Figure at 0x10a4d5f98>"
      ]
     },
     "metadata": {},
     "output_type": "display_data"
    },
    {
     "name": "stdout",
     "output_type": "stream",
     "text": [
      "[[[ 1.00490413  1.89980228]\n",
      "  [ 1.89980228  4.18354574]]\n",
      "\n",
      " [[ 1.96867815  0.78415336]\n",
      "  [ 0.78415336  1.83319942]]\n",
      "\n",
      " [[ 0.19316335 -0.11648642]\n",
      "  [-0.11648642  1.98395967]]]\n"
     ]
    }
   ],
   "source": [
    "samples = np.load('samples.npz')\n",
    "X = samples['data']\n",
    "pi0 = samples['pi0']\n",
    "mu0 = samples['mu0']\n",
    "sigma0 = samples['sigma0']\n",
    "plt.scatter(X[:, 0], X[:, 1], c='grey')\n",
    "plt.axis('equal')\n",
    "plt.show()\n",
    "print(sigma0)"
   ]
  },
  {
   "cell_type": "markdown",
   "metadata": {},
   "source": [
    "### Reminder"
   ]
  },
  {
   "cell_type": "markdown",
   "metadata": {},
   "source": [
    "Remember, that EM algorithm is a coordinate descent optimization of variational lower bound $\\mathcal{L}(\\theta, q) = \\int q(T) \\log\\frac{P(X, T|\\theta)}{q(T)}dT\\to \\max$.\n",
    "\n",
    "<b>E-step</b>:<br>\n",
    "$\\mathcal{L}(\\theta, q) \\to \\max\\limits_{q} \\Leftrightarrow \\mathcal{KL} [q(T) \\,\\|\\, p(T|X, \\theta)] \\to \\min \\limits_{q\\in Q} \\Rightarrow q(T) = p(T|X, \\theta)$<br>\n",
    "<b>M-step</b>:<br> \n",
    "$\\mathcal{L}(\\theta, q) \\to \\max\\limits_{\\theta} \\Leftrightarrow \\mathbb{E}_{q(T)}\\log p(X,T | \\theta) \\to \\max\\limits_{\\theta}$\n",
    "\n",
    "For GMM, $\\theta$ is a set of parameters that consists of mean vectors $\\mu_c$, covariance matrices $\\Sigma_c$ and priors $\\pi_c$ for each component.\n",
    "\n",
    "Latent variables $T$ are indices of components to which each data point is assigned. $T_i$ (cluster index for object $i$) is a binary vector with only one active bit in position corresponding to the true component. For example, if we have $C=3$ components and object $i$ lies in first component, $T_i = [1, 0, 0]$.\n",
    "\n",
    "The joint distribution can be written as follows: $p(T, X \\mid \\theta) =  \\prod\\limits_{i=1}^N p(T_i, X_i \\mid \\theta) = \\prod\\limits_{i=1}^N \\prod\\limits_{c=1}^C [\\pi_c \\mathcal{N}(X_i \\mid \\mu_c, \\Sigma_c)]^{T_{ic}}$."
   ]
  },
  {
   "cell_type": "markdown",
   "metadata": {},
   "source": [
    "### E-step\n",
    "In this step we need to estimate the posterior distribution over the latent variables with fixed values of parameters: $q(T) = p(T|X, \\theta)$. We will assume that $T_i$ (cluster index for object $i$) is a binary vector with only one '1' in position corresponding to the true component. To do so we need to compute $\\gamma_{ic} = P(T_{ic} = 1 \\mid X, \\theta)$. Note that $\\sum\\limits_{c=1}^C\\gamma_{ic}=1$.\n"
   ]
  },
  {
   "cell_type": "markdown",
   "metadata": {},
   "source": [
    "<b>Important trick 1:</b> It is important to avoid numerical errors. At some point you will have to compute the formula of the following form: $\\frac{e^{x_i}}{\\sum_j e^{x_j}}$. When you compute exponents of large numbers, you get huge numerical errors (some numbers will simply become infinity). You can avoid this by dividing numerator and denominator by $e^{\\max(x)}$: $\\frac{e^{x_i-\\max(x)}}{\\sum_j e^{x_j - \\max(x)}}$. After this transformation maximum value in the denominator will be equal to one. All other terms will contribute smaller values. This trick is called log-sum-exp. So, to compute desired formula you first subtract maximum value from each component in vector $X$ and then compute everything else as before.\n",
    "\n",
    "<b>Important trick 2:</b> You will probably need to compute formula of the form $A^{-1}x$ at some point. You would normally inverse $A$ and then multiply it by $x$. A bit faster and more numerically accurate way to do this is to solve the equation $Ay = x$. Its solution is $y=A^{-1}x$, but the equation $Ay = x$ can be solved by Gaussian elimination procedure. You can use ```np.linalg.solve``` for this.\n",
    "\n",
    "<b>Other usefull functions: </b> <a href=\"https://docs.scipy.org/doc/numpy/reference/generated/numpy.linalg.slogdet.html\">```slogdet```</a> and <a href=\"https://docs.scipy.org/doc/numpy/reference/generated/numpy.linalg.det.html#numpy.linalg.det\">```det```</a>"
   ]
  },
  {
   "cell_type": "markdown",
   "metadata": {},
   "source": [
    "<b>Task 1:</b> Implement E-step for GMM using template below."
   ]
  },
  {
   "cell_type": "code",
   "execution_count": 24,
   "metadata": {},
   "outputs": [],
   "source": [
    "#A=X[0:]\n",
    "#print(X,'\\n\\n',pi0,'\\n\\n',mu0,'\\n\\n',sigma0)\n",
    "\n",
    "\n",
    "#a=multivariate_normal.pdf(A,mean=B,cov=C)\n",
    "#print('\\n',a)\n",
    "#b=multivariate_normal(mean=B,cov=C)\n",
    "#print(b.pdf(A))\n",
    "def E_step(X, pi, mu, sigma):\n",
    "    \"\"\"\n",
    "    Performs E-step on GMM model\n",
    "    Each input is numpy array:\n",
    "    X: (N x d), data points\n",
    "    pi: (C), mixture component weights \n",
    "    mu: (C x d), mixture component means\n",
    "    sigma: (C x d x d), mixture component covariance matrices\n",
    "    \n",
    "    Returns:\n",
    "    gamma: (N x C), probabilities of clusters for objects\n",
    "    \"\"\"\n",
    "    N = X.shape[0] # number of objects\n",
    "    C = pi.shape[0] # number of clusters\n",
    "    d = mu.shape[1] # dimension of each object\n",
    "    gamma = np.zeros((N, C)) # distribution q(T)\n",
    "    \n",
    "    for i in range(C):\n",
    "        gamma[:,i]=multivariate_normal.pdf(X,mean=mu[i],cov=sigma[i])*pi[i]\n",
    "    \n",
    "    gamma=gamma/gamma.sum(axis=1)[:,np.newaxis]\n",
    "    \n",
    "    ### YOUR CODE HERE\n",
    "    \n",
    "    return gamma\n"
   ]
  },
  {
   "cell_type": "code",
   "execution_count": 9,
   "metadata": {},
   "outputs": [
    {
     "name": "stdout",
     "output_type": "stream",
     "text": [
      "[[  9.94276163e-001   5.72383707e-003   1.80616145e-015]\n",
      " [  9.87246842e-001   1.27531579e-002   7.75320649e-014]\n",
      " [  9.87494070e-001   1.25059301e-002   4.80943569e-015]\n",
      " [  9.99698913e-001   3.01086765e-004   5.64174196e-023]\n",
      " [  9.99705374e-001   2.94625561e-004   2.32357190e-025]\n",
      " [  1.20174053e-004   9.99879826e-001   1.45795586e-019]\n",
      " [  2.64890701e-036   1.00000000e+000   3.64585160e-056]\n",
      " [  2.82609593e-001   7.17388805e-001   1.60176297e-006]\n",
      " [  9.76855936e-001   2.31440637e-002   5.67381802e-012]\n",
      " [  4.54631617e-001   3.16891099e-001   2.28477284e-001]\n",
      " [  5.48750600e-001   4.24836690e-001   2.64127104e-002]\n",
      " [  9.93301100e-001   6.69890041e-003   1.31748626e-015]\n",
      " [  6.74287203e-001   3.22763734e-001   2.94906310e-003]\n",
      " [  1.76201104e-001   8.23798896e-001   1.01622102e-030]\n",
      " [  1.10261518e-003   9.98897385e-001   4.40367768e-023]\n",
      " [  9.18961182e-001   8.10369136e-002   1.90393930e-006]\n",
      " [  2.36606804e-010   9.99999998e-001   2.13808333e-009]\n",
      " [  9.99188439e-001   8.11561388e-004   2.58185294e-020]\n",
      " [  7.09538182e-001   2.89050235e-001   1.41158291e-003]\n",
      " [  1.25399282e-002   9.87460072e-001   8.14577195e-032]\n",
      " [  9.30795951e-001   6.92039932e-002   5.60841101e-008]\n",
      " [  5.81735265e-032   1.00000000e+000   9.26431347e-059]\n",
      " [  9.42196649e-001   5.78033509e-002   4.04455550e-012]\n",
      " [  6.37773923e-001   3.62225909e-001   1.67821244e-007]\n",
      " [  5.67609585e-001   4.32390415e-001   6.05588161e-015]\n",
      " [  9.85923605e-001   1.40763955e-002   1.98664836e-012]\n",
      " [  2.38321986e-001   7.60966962e-001   7.11052213e-004]\n",
      " [  9.98104127e-001   1.89587313e-003   3.55321714e-018]\n",
      " [  9.98951645e-001   1.04835480e-003   5.61205241e-022]\n",
      " [  6.71011407e-001   3.28988591e-001   1.70652266e-009]\n",
      " [  3.98047237e-001   6.01952763e-001   1.06939123e-016]\n",
      " [  1.36289767e-010   1.00000000e+000   6.59734040e-017]\n",
      " [  1.26992889e-004   9.99872485e-001   5.22609804e-007]\n",
      " [  1.12682040e-001   8.87115180e-001   2.02780439e-004]\n",
      " [  9.68723014e-001   3.12769860e-002   2.17199399e-010]\n",
      " [  2.94723763e-001   7.05276237e-001   3.76379458e-023]\n",
      " [  9.90504623e-001   9.49537720e-003   1.88418121e-013]\n",
      " [  9.98876557e-001   1.12344319e-003   6.46570557e-020]\n",
      " [  9.81224717e-001   1.87752827e-002   8.74151529e-020]\n",
      " [  8.59982829e-001   1.39905656e-001   1.11514934e-004]\n",
      " [  7.47017832e-029   1.00000000e+000   3.74457710e-046]\n",
      " [  1.72605294e-039   1.00000000e+000   1.02203118e-030]\n",
      " [  5.95954804e-006   9.99994040e-001   7.56059012e-010]\n",
      " [  9.93596312e-001   6.40368821e-003   2.74095812e-017]\n",
      " [  2.05111619e-012   1.00000000e+000   4.35873878e-021]\n",
      " [  5.43188919e-005   9.96614840e-001   3.33084079e-003]\n",
      " [  1.31213366e-009   9.99996179e-001   3.81983990e-006]\n",
      " [  9.56329548e-001   4.36704516e-002   2.28356273e-011]\n",
      " [  9.28543012e-001   7.14569880e-002   1.34442778e-014]\n",
      " [  1.44363425e-001   8.55634115e-001   2.46030954e-006]\n",
      " [  8.87785644e-001   1.12167417e-001   4.69390727e-005]\n",
      " [  2.05065916e-005   9.99979472e-001   2.14380688e-008]\n",
      " [  5.93370137e-005   9.97737411e-001   2.20325165e-003]\n",
      " [  9.36841132e-056   1.00000000e+000   3.17932654e-098]\n",
      " [  9.93829821e-001   6.17017925e-003   3.81954452e-022]\n",
      " [  6.18078076e-005   9.99926615e-001   1.15770515e-005]\n",
      " [  3.29062085e-040   1.00000000e+000   1.42841095e-070]\n",
      " [  8.53869785e-001   1.46130215e-001   2.38347534e-019]\n",
      " [  7.78634082e-001   2.21016121e-001   3.49797443e-004]\n",
      " [  3.56143769e-003   9.96438562e-001   1.06975022e-014]\n",
      " [  1.72061783e-005   9.99981880e-001   9.14031879e-007]\n",
      " [  9.94029385e-001   5.97061537e-003   8.27050040e-015]\n",
      " [  3.18792276e-001   1.61073364e-001   5.20134360e-001]\n",
      " [  7.41232874e-001   2.58754754e-001   1.23719668e-005]\n",
      " [  9.99617860e-001   3.82140007e-004   6.22308927e-024]\n",
      " [  9.89551823e-001   1.04481769e-002   7.07852605e-015]\n",
      " [  7.85359811e-001   2.14639875e-001   3.13124906e-007]\n",
      " [  4.93439728e-020   1.00000000e+000   5.48477191e-036]\n",
      " [  2.18308369e-001   7.23673035e-001   5.80185961e-002]\n",
      " [  3.87187674e-001   6.12812319e-001   6.74471246e-009]\n",
      " [  9.06915833e-001   9.30841667e-002   7.63699755e-019]\n",
      " [  6.98288652e-001   3.01711270e-001   7.82363546e-008]\n",
      " [  8.38354130e-001   1.61645870e-001   2.45021394e-011]\n",
      " [  2.44914255e-054   1.00000000e+000   5.17930239e-096]\n",
      " [  1.43380892e-007   9.99999476e-001   3.80815106e-007]\n",
      " [  2.24653086e-035   1.00000000e+000   9.52219156e-053]\n",
      " [  8.49231022e-001   1.50768275e-001   7.02503732e-007]\n",
      " [  9.96330893e-001   3.66910732e-003   2.56304065e-016]\n",
      " [  7.33026822e-001   2.66973178e-001   2.04766896e-022]\n",
      " [  1.28987248e-001   8.44346763e-001   2.66659886e-002]\n",
      " [  9.77192054e-001   2.28079461e-002   9.91957067e-019]\n",
      " [  9.98993080e-001   1.00691994e-003   9.70562482e-033]\n",
      " [  5.89744940e-008   9.99999941e-001   2.25736334e-010]\n",
      " [  9.89202219e-001   1.07977809e-002   5.42708362e-014]\n",
      " [  1.91456580e-005   9.99980854e-001   1.87218870e-013]\n",
      " [  3.58911075e-001   6.40860046e-001   2.28878668e-004]\n",
      " [  9.81162137e-001   1.88378630e-002   1.28499393e-021]\n",
      " [  8.86742583e-037   1.00000000e+000   5.77003482e-060]\n",
      " [  9.64837804e-001   3.51621957e-002   8.39114782e-018]\n",
      " [  1.57000106e-031   1.00000000e+000   3.51674383e-027]\n",
      " [  9.88959879e-001   1.10401207e-002   1.99228490e-016]\n",
      " [  2.92132818e-011   9.99998629e-001   1.37069810e-006]\n",
      " [  8.10094421e-043   1.00000000e+000   8.82072120e-028]\n",
      " [  9.78641152e-018   1.00000000e+000   1.84137135e-015]\n",
      " [  6.27907336e-022   1.00000000e+000   7.86946168e-047]\n",
      " [  1.71401917e-004   9.73045549e-001   2.67830495e-002]\n",
      " [  9.59477751e-001   4.05222448e-002   4.45604907e-009]\n",
      " [  5.18157209e-008   9.99999948e-001   3.45034426e-010]\n",
      " [  4.40167102e-023   1.00000000e+000   6.04325351e-025]\n",
      " [  4.80751696e-038   1.00000000e+000   4.28529112e-066]\n",
      " [  8.40836524e-001   1.59163474e-001   1.24165801e-009]\n",
      " [  9.96594664e-001   3.40533558e-003   7.95158043e-018]\n",
      " [  2.17662687e-006   9.99997764e-001   5.92680733e-008]\n",
      " [  4.63568047e-010   1.00000000e+000   8.72466588e-013]\n",
      " [  3.16059218e-002   9.68394078e-001   5.17875694e-023]\n",
      " [  9.86434487e-001   1.35655133e-002   4.53843831e-014]\n",
      " [  3.40899807e-010   7.41649657e-001   2.58350342e-001]\n",
      " [  2.35046160e-045   1.00000000e+000   1.08913269e-083]\n",
      " [  1.43831776e-010   1.00000000e+000   4.64057026e-017]\n",
      " [  6.78704318e-001   3.21283490e-001   1.21915714e-005]\n",
      " [  7.22969285e-001   2.77030715e-001   5.90306207e-023]\n",
      " [  9.68974926e-008   9.99999875e-001   2.77704171e-008]\n",
      " [  7.41971394e-001   2.58028575e-001   3.02582812e-008]\n",
      " [  1.99144530e-006   9.99998007e-001   1.93630933e-009]\n",
      " [  9.44008536e-003   9.90537319e-001   2.25953594e-005]\n",
      " [  9.77921913e-001   2.20780871e-002   6.68240677e-011]\n",
      " [  6.61022534e-001   3.38804056e-001   1.73410071e-004]\n",
      " [  9.70574898e-001   2.94251019e-002   6.80965588e-016]\n",
      " [  8.15592687e-001   1.84406669e-001   6.44147580e-007]\n",
      " [  8.88891124e-048   1.00000000e+000   2.15762157e-088]\n",
      " [  9.94575628e-001   5.42437220e-003   2.46634049e-016]\n",
      " [  9.92778172e-001   7.22182813e-003   4.33365168e-027]\n",
      " [  9.98749084e-001   1.25091554e-003   2.80602305e-019]\n",
      " [  2.28578369e-009   9.99999998e-001   7.04663433e-011]\n",
      " [  1.05901309e-001   8.94098528e-001   1.62831698e-007]\n",
      " [  3.99109332e-040   1.00000000e+000   1.34860792e-085]\n",
      " [  1.42770134e-014   9.99998558e-001   1.44225018e-006]\n",
      " [  9.28721864e-001   7.12781351e-002   8.75340016e-010]\n",
      " [  6.56466529e-001   1.72367626e-001   1.71165845e-001]\n",
      " [  2.24195764e-053   1.00000000e+000   7.12813995e-108]\n",
      " [  9.70788119e-001   2.92118810e-002   1.15597430e-019]\n",
      " [  1.75928728e-020   1.00000000e+000   2.33718601e-014]\n",
      " [  1.22284796e-003   9.93194393e-001   5.58275891e-003]\n",
      " [  1.63101729e-017   1.00000000e+000   4.03257446e-015]\n",
      " [  9.94911065e-001   5.08893530e-003   2.03069013e-015]\n",
      " [  4.84891032e-001   8.90818184e-002   4.26027149e-001]\n",
      " [  1.13868131e-014   1.00000000e+000   8.80934364e-024]\n",
      " [  1.19648774e-054   1.00000000e+000   3.07970807e-104]\n",
      " [  3.44012792e-018   1.00000000e+000   2.36010063e-023]\n",
      " [  9.95572866e-001   4.42713380e-003   4.34301963e-017]\n",
      " [  9.88300706e-001   1.16992940e-002   8.25621255e-021]\n",
      " [  2.65967321e-001   7.34032679e-001   5.49955047e-026]\n",
      " [  9.98520870e-001   1.47913036e-003   9.80272229e-019]\n",
      " [  3.87817746e-065   1.00000000e+000   2.04344891e-114]\n",
      " [  8.86526214e-008   9.99999668e-001   2.43011423e-007]\n",
      " [  9.99708434e-001   2.91566062e-004   4.29490077e-023]\n",
      " [  9.97066800e-001   2.93319962e-003   1.05477009e-017]\n",
      " [  8.05137664e-001   1.94862038e-001   2.98069992e-007]\n",
      " [  9.78403493e-001   2.15965068e-002   4.12621084e-019]\n",
      " [  9.95756568e-001   4.24343174e-003   3.72189663e-016]\n",
      " [  1.86743575e-018   1.00000000e+000   1.62281982e-032]\n",
      " [  2.08039331e-003   9.97919607e-001   5.04778159e-034]\n",
      " [  9.96665095e-001   3.33490455e-003   1.00613648e-016]\n",
      " [  9.98883075e-001   1.11692479e-003   6.71054665e-024]\n",
      " [  9.90612713e-001   9.38728711e-003   1.70621844e-013]\n",
      " [  3.77991780e-001   6.22007751e-001   4.69547372e-007]\n",
      " [  9.74645307e-002   9.02535469e-001   6.23775885e-033]\n",
      " [  1.86290849e-010   1.00000000e+000   5.47974459e-013]\n",
      " [  3.97348728e-001   6.02651272e-001   8.46840084e-021]\n",
      " [  9.97091787e-001   2.90821345e-003   4.89115659e-017]\n",
      " [  2.15281736e-044   1.00000000e+000   2.49836772e-084]\n",
      " [  1.01752784e-015   1.00000000e+000   6.25454901e-019]\n",
      " [  3.85479879e-007   9.99999378e-001   2.36070662e-007]\n",
      " [  7.36088640e-004   9.99249024e-001   1.48878142e-005]\n",
      " [  2.31235362e-008   9.99999970e-001   6.97011638e-009]\n",
      " [  5.62592943e-039   1.00000000e+000   4.70676305e-066]\n",
      " [  7.80073629e-001   2.19926371e-001   2.95248202e-011]\n",
      " [  3.74766511e-002   9.62523349e-001   1.90757081e-022]\n",
      " [  4.15620073e-001   5.84357843e-001   2.20835679e-005]\n",
      " [  1.03447027e-012   1.00000000e+000   7.14628448e-018]\n",
      " [  8.71611791e-006   9.99991284e-001   2.42670858e-015]\n",
      " [  4.43901843e-042   1.00000000e+000   1.72903332e-068]\n",
      " [  2.43059921e-039   1.00000000e+000   4.60401873e-063]\n",
      " [  1.66851631e-009   9.99999998e-001   1.27738846e-014]\n",
      " [  9.89131210e-002   9.01085214e-001   1.66516822e-006]\n",
      " [  3.11254381e-020   1.00000000e+000   9.80481489e-011]\n",
      " [  3.62788587e-002   9.63705187e-001   1.59546441e-005]\n",
      " [  2.72080695e-004   9.99043036e-001   6.84883073e-004]\n",
      " [  1.99037751e-001   8.00962243e-001   5.83006437e-009]\n",
      " [  3.98655270e-001   5.96769740e-001   4.57499029e-003]\n",
      " [  9.97406955e-001   2.59304526e-003   4.50001294e-018]\n",
      " [  4.54811414e-002   9.54518859e-001   3.64859898e-036]\n",
      " [  9.59392020e-001   4.06079799e-002   1.54518192e-010]\n",
      " [  3.69898816e-044   1.00000000e+000   3.14281547e-076]\n",
      " [  8.09405576e-001   1.90594424e-001   1.68016370e-011]\n",
      " [  9.71258714e-001   2.87412860e-002   1.08511314e-010]\n",
      " [  8.93553441e-001   1.06446489e-001   7.02251222e-008]\n",
      " [  9.73185757e-001   2.68142426e-002   3.94182116e-015]\n",
      " [  8.37962156e-001   1.62019532e-001   1.83112272e-005]\n",
      " [  4.56178199e-001   5.43821484e-001   3.17332145e-007]\n",
      " [  1.96770059e-004   9.99803230e-001   3.42990187e-036]\n",
      " [  2.51669893e-001   4.71771603e-001   2.76558503e-001]\n",
      " [  9.97157508e-001   2.84249175e-003   6.51535810e-017]\n",
      " [  3.92806556e-003   9.96071934e-001   2.36064166e-013]\n",
      " [  9.57288291e-001   4.27117010e-002   8.31698855e-009]\n",
      " [  9.45217109e-001   5.47828911e-002   1.30667090e-012]\n",
      " [  9.06923006e-015   9.99999997e-001   2.50764399e-009]\n",
      " [  4.58837556e-005   9.99954116e-001   3.74490542e-024]\n",
      " [  9.89209310e-001   1.07906901e-002   1.25114624e-017]\n",
      " [  9.95228783e-001   4.77121735e-003   2.45915157e-016]\n",
      " [  1.55454012e-009   9.36009024e-001   6.39909744e-002]\n",
      " [  5.54990969e-006   9.99994005e-001   4.44831402e-007]\n",
      " [  5.71421232e-001   1.07955541e-001   3.20623226e-001]\n",
      " [  9.78759170e-001   2.12408303e-002   1.91758312e-011]\n",
      " [  9.88976459e-001   1.10235408e-002   4.86008392e-013]\n",
      " [  4.73242223e-049   1.00000000e+000   9.49980725e-094]\n",
      " [  9.70231216e-001   2.97687835e-002   4.84748725e-012]\n",
      " [  3.09491029e-013   1.00000000e+000   3.19952209e-015]\n",
      " [  1.84690220e-037   1.00000000e+000   3.22798438e-062]\n",
      " [  9.55646339e-001   4.43536608e-002   8.70370671e-011]\n",
      " [  9.91284178e-001   8.71582153e-003   1.25577498e-032]\n",
      " [  1.12287481e-012   1.00000000e+000   4.32559981e-012]\n",
      " [  9.97913627e-001   2.08637281e-003   6.02624753e-020]\n",
      " [  5.49921614e-068   1.00000000e+000   1.36203463e-111]\n",
      " [  8.76523882e-001   1.23476117e-001   5.07982704e-010]\n",
      " [  1.31380009e-001   8.68619892e-001   9.88555046e-008]\n",
      " [  9.92824347e-001   7.17565272e-003   3.25420936e-021]\n",
      " [  8.73953101e-029   1.00000000e+000   6.55451540e-024]\n",
      " [  6.86734646e-001   3.13265354e-001   1.05707221e-015]\n",
      " [  9.99188867e-001   8.11132933e-004   9.01239636e-023]\n",
      " [  9.85195088e-002   9.01480491e-001   5.42136200e-014]\n",
      " [  6.17240075e-002   9.38275992e-001   4.07335827e-029]\n",
      " [  7.64703777e-002   9.23411513e-001   1.18109168e-004]\n",
      " [  9.98651666e-001   1.34833443e-003   5.01724045e-019]\n",
      " [  2.06895357e-001   7.93104643e-001   6.43185781e-030]\n",
      " [  6.37213092e-001   3.62786702e-001   2.06465466e-007]\n",
      " [  5.07131153e-001   4.92867559e-001   1.28738656e-006]\n",
      " [  1.87132255e-006   9.99998129e-001   3.33185028e-014]\n",
      " [  9.94426951e-001   5.57304877e-003   8.50179866e-017]\n",
      " [  8.82738532e-003   9.91152361e-001   2.02539224e-005]\n",
      " [  1.89419640e-008   9.99999970e-001   1.11249814e-008]\n",
      " [  9.97649828e-001   2.35017234e-003   3.67205623e-021]\n",
      " [  7.67723042e-001   2.32143587e-001   1.33371229e-004]\n",
      " [  5.03959834e-005   9.99949604e-001   2.40891883e-019]\n",
      " [  9.92970120e-001   7.02988038e-003   1.85634656e-014]\n",
      " [  9.97236423e-001   2.76357729e-003   2.42824241e-027]\n",
      " [  3.33443220e-003   9.95891130e-001   7.74437865e-004]\n",
      " [  1.04962791e-001   8.95037170e-001   3.90428491e-008]\n",
      " [  6.58383759e-002   9.34161484e-001   1.40291768e-007]\n",
      " [  2.52676101e-042   1.00000000e+000   4.39763957e-062]\n",
      " [  4.67265699e-007   9.99999532e-001   8.21524583e-010]\n",
      " [  6.43218339e-001   3.56781659e-001   1.80952615e-009]\n",
      " [  3.70169549e-019   1.00000000e+000   1.58856324e-018]\n",
      " [  8.89512628e-001   1.10478633e-001   8.73948864e-006]\n",
      " [  9.94215648e-001   5.78435219e-003   6.49463449e-015]\n",
      " [  9.90170779e-001   9.82922099e-003   2.52184156e-015]\n",
      " [  9.33775634e-001   6.62243661e-002   2.42551101e-011]\n",
      " [  2.21661577e-003   9.97735039e-001   4.83456806e-005]\n",
      " [  9.83271558e-001   1.67284424e-002   1.25858379e-013]\n",
      " [  9.03827759e-001   9.61722411e-002   6.50112334e-017]\n",
      " [  8.00996738e-001   1.73804744e-001   2.51985185e-002]\n",
      " [  9.77793666e-001   2.22063337e-002   8.24603768e-018]\n",
      " [  9.25425143e-001   7.45748572e-002   5.28649160e-028]\n",
      " [  4.46314303e-001   5.10998102e-001   4.26875948e-002]\n",
      " [  9.97053842e-001   2.94615760e-003   1.84108663e-017]\n",
      " [  3.42910704e-054   1.00000000e+000   1.75653396e-114]\n",
      " [  1.02716537e-003   9.98967136e-001   5.69893070e-006]\n",
      " [  9.41508815e-001   5.84911851e-002   1.05684376e-013]\n",
      " [  9.62547939e-001   3.74520611e-002   1.24307561e-016]\n",
      " [  8.25883018e-001   1.74116982e-001   3.95238611e-029]\n",
      " [  2.61873122e-003   9.97381269e-001   4.35564270e-019]\n",
      " [  5.07928336e-001   1.28293420e-001   3.63778243e-001]\n",
      " [  9.90021409e-001   9.97859058e-003   1.84862635e-021]\n",
      " [  1.50763458e-001   8.49236214e-001   3.28397297e-007]\n",
      " [  9.93389070e-001   6.61093043e-003   3.86991343e-017]\n",
      " [  9.37957719e-008   5.22271865e-001   4.77728041e-001]\n",
      " [  9.82243456e-001   1.77565440e-002   1.08662604e-017]\n",
      " [  1.04165220e-014   1.00000000e+000   1.61931290e-016]\n",
      " [  1.65037939e-043   1.00000000e+000   9.30895272e-087]\n",
      " [  9.97022852e-001   2.97714781e-003   9.03313844e-017]\n",
      " [  4.57208996e-001   5.42791004e-001   2.89298793e-011]\n",
      " [  9.99105455e-001   8.94544775e-004   4.67173323e-020]\n",
      " [  2.98894337e-002   4.39891332e-001   5.30219234e-001]\n",
      " [  1.43909538e-003   9.98560897e-001   7.56199982e-009]\n",
      " [  9.84260396e-001   1.57396044e-002   4.17873476e-014]\n",
      " [  2.73530677e-063   1.00000000e+000   2.87664508e-127]\n",
      " [  7.50514219e-001   1.68161651e-001   8.13241297e-002]\n",
      " [  9.98994979e-001   1.00502076e-003   7.90289599e-027]\n",
      " [  9.73136544e-001   2.68634560e-002   2.81404381e-011]\n",
      " [  6.89962432e-001   3.10020652e-001   1.69157149e-005]]\n",
      "Current answer for task Task 1 (E-step) is: 0.316891098769\n"
     ]
    }
   ],
   "source": [
    "gamma=E_step(X, pi0, mu0, sigma0)\n",
    "print(gamma)\n",
    "grader.submit_e_step(gamma)"
   ]
  },
  {
   "cell_type": "markdown",
   "metadata": {},
   "source": [
    "### M-step\n",
    "\n",
    "In M-step we need to maximize $\\mathbb{E}_{q(T)}\\log p(X,T | \\theta)$ with respect to $\\theta$. In our model this means that we need to find optimal values of $\\pi$, $\\mu$, $\\Sigma$. To do so, you need to compute the derivatives and \n",
    "set them to zero. You should start by deriving formulas for $\\mu$ as it is the easiest part. Then move on to $\\Sigma$. Here it is crucial to optimize function w.r.t. to $\\Lambda = \\Sigma^{-1}$ and then inverse obtained result. Finaly, to compute $\\pi$, you will need <a href=\"https://www3.nd.edu/~jstiver/FIN360/Constrained%20Optimization.pdf\">Lagrange Multipliers technique</a> to satisfy constraint $\\sum\\limits_{i=1}^{n}\\pi_i = 1$.\n",
    "\n",
    "<br>\n",
    "<b>Important note:</b> You will need to compute derivatives of scalars with respect to matrices. To refresh this technique from previous courses, see <a href=\"https://en.wikipedia.org/wiki/Matrix_calculus\"> wiki article</a> about it . Main formulas of matrix derivatives can be found in <a href=\"http://www2.imm.dtu.dk/pubdb/views/edoc_download.php/3274/pdf/imm3274.pdf\">Chapter 2 of The Matrix Cookbook</a>. For example, there you may find that $\\frac{\\partial}{\\partial A}\\log |A| = A^{-T}$.\n"
   ]
  },
  {
   "cell_type": "markdown",
   "metadata": {},
   "source": [
    "<b>Task 2:</b> Implement M-step for GMM using template below."
   ]
  },
  {
   "cell_type": "code",
   "execution_count": 25,
   "metadata": {},
   "outputs": [
    {
     "data": {
      "text/plain": [
       "(array([ 0.47328867,  0.51261138,  0.01409994]),\n",
       " array([[ 1.0455611 ,  5.37505391],\n",
       "        [ 2.31745297,  2.82682974],\n",
       "        [-1.31481396,  1.72433045]]),\n",
       " array([[[ 0.70582095,  0.95379902],\n",
       "         [ 0.95379902,  3.07195281]],\n",
       " \n",
       "        [[ 5.76195964,  1.65964702],\n",
       "         [ 1.65964702,  5.98574704]],\n",
       " \n",
       "        [[ 0.08199601, -0.23479177],\n",
       "         [-0.23479177,  3.89139559]]]))"
      ]
     },
     "execution_count": 25,
     "metadata": {},
     "output_type": "execute_result"
    }
   ],
   "source": [
    "\n",
    "#A=X[0:]\n",
    "#print(A,'\\n\\n',pi0,'\\n\\n',mu0,'\\n\\n',sigma0)\n",
    "#gamma0=E_step(A, pi0, mu0, sigma0)\n",
    "#print('\\n')\n",
    "#print('gamma\\n',gamma0)\n",
    "\n",
    "def M_step(X, gamma):\n",
    "    \"\"\"\n",
    "    Performs M-step on GMM model\n",
    "    Each input is numpy array:\n",
    "    X: (N x d), data points\n",
    "    gamma: (N x C), distribution q(T)  \n",
    "    \n",
    "    Returns:\n",
    "    pi: (C)\n",
    "    mu: (C x d)\n",
    "    sigma: (C x d x d)\n",
    "    \"\"\"\n",
    "    N = X.shape[0] # number of objects\n",
    "    C = gamma.shape[1] # number of clusters\n",
    "    d = X.shape[1] # dimension of each object\n",
    "    P_X_given_T=np.zeros_like(gamma)\n",
    "    mu=np.zeros([C,d])\n",
    "    pi=np.zeros([C])\n",
    "    ret_sigma=np.zeros([C,d,d])\n",
    "    \n",
    "    for i in range(C):\n",
    "        \n",
    "        mu_sum=np.sum(X*gamma[:,i][:,np.newaxis],axis=0)\n",
    "        gamma_sum=np.sum(gamma[:,i])\n",
    "        #print(gamma_sum)\n",
    "        mu[i,:]=mu_sum/gamma_sum\n",
    "\n",
    "        #for i in range(C): \n",
    "        #print(X-mu[i])\n",
    "        temp=np.transpose(np.reshape((X-mu[i]),[X.shape[0],X.shape[1],1]),(2,1,0))\n",
    "        #print('temp',temp,temp.shape)\n",
    "        #print(np.transpose(temp,(1,0,2)).shape)\n",
    "        #print()\n",
    "        \n",
    "        sigma=np.transpose(temp,(1,0,2))*temp\n",
    "        #print('sig',sigma,sigma.shape)\n",
    "        #print(np.reshape(gamma[:,i],[gamma.shape[0],1,1]))\n",
    "        #print(np.transpose(np.reshape(gamma[:,i],[gamma.shape[0],1,1]),(2,1,0)))\n",
    "        \n",
    "        sigma_gamma=sigma*np.transpose(np.reshape(gamma[:,i],[gamma.shape[0],1,1]),(2,1,0))\n",
    "        #print('sig2',sigma_gamma,sigma_gamma.shape)\n",
    "        \n",
    "        sigma_gamma_sum=np.sum(sigma_gamma,axis=2)\n",
    "        #print(sigma_gamma_sum)\n",
    "        \n",
    "        gamma_sum=np.sum(gamma[:,i])\n",
    "       # print(gamma_sum)\n",
    "    \n",
    "        ret_sigma[i,:,:]=np.transpose(sigma_gamma_sum/gamma_sum,(1,0))\n",
    "        #print(X*gamma)\n",
    "        \n",
    "        pi[i]=gamma_sum\n",
    "    pi=pi/np.sum(pi)\n",
    "    return pi, mu, ret_sigma\n",
    "M_step(X, gamma)"
   ]
  },
  {
   "cell_type": "code",
   "execution_count": 26,
   "metadata": {},
   "outputs": [
    {
     "name": "stdout",
     "output_type": "stream",
     "text": [
      "Current answer for task Task 2 (M-step: mu) is: 2.89939188205\n",
      "Current answer for task Task 2 (M-step: sigma) is: 5.9771052169\n",
      "Current answer for task Task 2 (M-step: pi) is: 0.550762445922\n"
     ]
    }
   ],
   "source": [
    "gamma = E_step(X, pi0, mu0, sigma0)\n",
    "pi, mu, sigma = M_step(X, gamma)\n",
    "grader.submit_m_step(pi, mu, sigma)"
   ]
  },
  {
   "cell_type": "markdown",
   "metadata": {},
   "source": [
    "### Loss function"
   ]
  },
  {
   "cell_type": "markdown",
   "metadata": {},
   "source": [
    "Finally, we need some function to track convergence. We will use variational lower bound $\\mathcal{L}$ for this purpose. We will stop our EM iterations when $\\mathcal{L}$ will saturate. Usually, you will need only about 10-20 iterations to converge. It is also useful to check that this function never decreases during training. If it does, you have a bug in your code.\n",
    "\n",
    "<b>Task 3:</b> Implement a function that will compute $\\mathcal{L}$ using template below.\n",
    "\n",
    "$$\\mathcal{L} = \\sum_{n=1}^{N} \\sum_{k=1}^{K} \\mathbb{E}[z_{n, k}] (\\log \\pi_k + \\log \\mathcal{N}(x_n | \\mu_k, \\sigma_k)) - \\sum_{n=1}^{N} \\sum_{k=1}^{K} \\mathbb{E}[z_{n, k}] \\log \\mathbb{E}[z_{n, k}]$$"
   ]
  },
  {
   "cell_type": "code",
   "execution_count": 27,
   "metadata": {},
   "outputs": [
    {
     "data": {
      "text/plain": [
       "-1213.9734643056825"
      ]
     },
     "execution_count": 27,
     "metadata": {},
     "output_type": "execute_result"
    }
   ],
   "source": [
    "#A=X[0:]\n",
    "#print(A,'\\n\\n',pi0,'\\n\\n',mu0,'\\n\\n',sigma0)\n",
    "#gamma0=E_step(A, pi0, mu0, sigma0)\n",
    "#print('\\n')\n",
    "#print('gamma\\n',gamma0)\n",
    "#loss=0\n",
    "def compute_vlb(X, pi, mu, sigma, gamma):\n",
    "    \"\"\"\n",
    "    Each input is numpy array:\n",
    "    X: (N x d), data points\n",
    "    gamma: (N x C), distribution q(T)  \n",
    "    pi: (C)\n",
    "    mu: (C x d)\n",
    "    sigma: (C x d x d)\n",
    "    \n",
    "    Returns value of variational lower bound\n",
    "    \"\"\"\n",
    "    N = X.shape[0] # number of objects\n",
    "    C = gamma.shape[1] # number of clusters\n",
    "    d = X.shape[1] # dimension of each object\n",
    "\n",
    "    term1=np.sum(gamma*np.log(pi+1e-30))\n",
    "    term2=0\n",
    "    temp=0\n",
    "    #print('t1',term1)\n",
    "    for i in range(C):\n",
    "        #print(gamma[:,i])\n",
    "        temp=np.sum(np.log(multivariate_normal.pdf(X,mean=mu[i],cov=sigma[i])+1e-30)*gamma[:,i])\n",
    "        #print(temp)\n",
    "        term2+=temp\n",
    "    \n",
    "    #print(gamma*np.log(gamma))\n",
    "    #print(np.log(gamma))\n",
    "    term3=np.sum(gamma*np.log(gamma+1e-30))\n",
    "    #print(term3)\n",
    "    ### YOUR CODE HERE\n",
    "\n",
    "    return term1+term2-term3\n",
    "compute_vlb(X,pi,mu,sigma,gamma)"
   ]
  },
  {
   "cell_type": "code",
   "execution_count": 28,
   "metadata": {},
   "outputs": [
    {
     "name": "stdout",
     "output_type": "stream",
     "text": [
      "-1213.97346431\n",
      "Current answer for task Task 3 (VLB) is: -1213.97346431\n"
     ]
    }
   ],
   "source": [
    "pi, mu, sigma = pi0, mu0, sigma0\n",
    "gamma = E_step(X, pi, mu, sigma)\n",
    "pi, mu, sigma = M_step(X, gamma)\n",
    "loss = compute_vlb(X, pi, mu, sigma, gamma)\n",
    "print(loss)\n",
    "grader.submit_VLB(loss)"
   ]
  },
  {
   "cell_type": "markdown",
   "metadata": {},
   "source": [
    "### Bringing it all together"
   ]
  },
  {
   "cell_type": "markdown",
   "metadata": {},
   "source": [
    "Now that we have E step, M step and VLB, we can implement training loop. We will start at random values of $\\pi$, $\\mu$ and $\\Sigma$, train until $\\mathcal{L}$ stops changing and return the resulting points. We also know that EM algorithm sometimes stops at local optima. To avoid this we should restart algorithm multiple times from different starting positions. Each training trial should stop either when maximum number of iterations is reached or when relative improvement is smaller than given tolerance ($|\\frac{\\mathcal{L}_i-\\mathcal{L}_{i-1}}{\\mathcal{L}_{i-1}}| \\le \\text{rtol}$).\n",
    "\n",
    "Remember, that values of $\\pi$ that you generate must be non-negative and sum up to 1. Also, $\\Sigma$ matrices must be symmetric and positive semi-definite. If you don't know how to generate those matrices, you can use $\\Sigma=I$ as initialization.\n",
    "\n",
    "You will also sometimes get numerical errors because of component collapsing. The easiest way to deal with this problems is to simply restart the procedure.\n",
    "\n",
    "<b>Task 4:</b> Implement training procedure"
   ]
  },
  {
   "cell_type": "code",
   "execution_count": 45,
   "metadata": {},
   "outputs": [
    {
     "data": {
      "text/plain": [
       "(-1065.2749782986659,\n",
       " array([ 0.11019441,  0.53472572,  0.35507987]),\n",
       " array([[ 6.1963251 ,  4.35003642],\n",
       "        [ 1.23648912,  5.8899885 ],\n",
       "        [ 0.90200345,  1.09398536]]),\n",
       " array([[[ 2.04649178,  1.66530751],\n",
       "         [ 1.66530751,  1.54453157]],\n",
       " \n",
       "        [[ 0.92095957,  0.05121742],\n",
       "         [ 0.05121742,  1.00167001]],\n",
       " \n",
       "        [[ 1.48808694, -0.39694694],\n",
       "         [-0.39694694,  1.75330153]]]))"
      ]
     },
     "execution_count": 45,
     "metadata": {},
     "output_type": "execute_result"
    }
   ],
   "source": [
    "def train_EM(X, C, rtol=1e-3, max_iter=100, restarts=10):\n",
    "    '''\n",
    "    Starts with random initialization *restarts* times\n",
    "    Runs optimization until saturation with *rtol* reached\n",
    "    or *max_iter* iterations were made.\n",
    "    \n",
    "    X: (N, d), data points\n",
    "    C: int, number of clusters\n",
    "    '''\n",
    "    N = X.shape[0] # number of objects\n",
    "    d = X.shape[1] # dimension of each object\n",
    "    best_loss = -100000\n",
    "    best_pi = None\n",
    "    best_mu = None\n",
    "    best_sigma = None\n",
    "    max_X,max_Y=(np.max(X,axis=0))\n",
    "    min_X,min_Y=(np.min(X,axis=0))\n",
    "    \n",
    "    \n",
    "    for _ in range(restarts):\n",
    "        try:\n",
    "            #initilize\n",
    "            current_best_loss=-1000000\n",
    "            current_best_pi = None\n",
    "            current_best_mu = None\n",
    "            current_best_sigma = None\n",
    "            \n",
    "            mu=np.random.rand(C,d)\n",
    "            mu[:,0]=(max_X-min_X)*mu[:,0]+min_X\n",
    "            mu[:,1]=(max_Y-min_Y)*mu[:,1]+min_Y\n",
    "            \n",
    "            pi=np.random.rand(C)\n",
    "            pi=pi/np.sum(pi)\n",
    "            \n",
    "            sigma=np.random.rand(C,d,d)\n",
    "            \n",
    "            sigma[:,:,0]=(max_X-min_X)*sigma[:,:,0]+min_X\n",
    "            sigma[:,:,1]=(max_Y-min_Y)*sigma[:,:,1]+min_Y\n",
    "            sigma=sigma/2\n",
    "            for i in range(C):\n",
    "                sigma[i,:,:]=np.matmul(sigma[i,:,:],np.transpose(sigma[i,:,:]))\n",
    "            #print(pi, mu, sigma)\n",
    "            for _ in range(max_iter):\n",
    "                gamma = E_step(X, pi, mu, sigma)\n",
    "                pi, mu, sigma = M_step(X, gamma)\n",
    "                loss = compute_vlb(X, pi, mu, sigma, gamma)\n",
    "                #print('loss in ',_,' iter: ',loss)\n",
    "                if loss<(1+rtol)*current_best_loss:\n",
    "                   # print('etiya: ',loss)\n",
    "                   # print('agot: ',current_best_loss)\n",
    "                    raise ValueError('Omg, lower bound is decreasing, this can\"t happen in EM algo')\n",
    "                if loss>(1-rtol)*current_best_loss:\n",
    "                   # print('here')\n",
    "                   # print('etiya: ',loss)\n",
    "                   # print('agot: ',current_best_loss)\n",
    "                    current_best_loss=loss\n",
    "                    current_best_pi=pi\n",
    "                    current_best_mu=mu\n",
    "                    current_best_sigma=sigma\n",
    "                else:\n",
    "                    break\n",
    "                    \n",
    "            if current_best_loss>best_loss:\n",
    "                #print('there')\n",
    "                best_loss=current_best_loss\n",
    "                best_pi=current_best_pi\n",
    "                best_sigma=current_best_sigma\n",
    "                best_mu=current_best_mu\n",
    "            ### YOUR CODE HERE\n",
    "            #print(pi,mu,sigma)\n",
    "            \n",
    "        except np.linalg.LinAlgError:\n",
    "            print(\"Singular matrix: components collapsed\")\n",
    "            pass\n",
    "\n",
    "    return best_loss, best_pi, best_mu, best_sigma\n",
    "train_EM(X, 3)"
   ]
  },
  {
   "cell_type": "code",
   "execution_count": 46,
   "metadata": {},
   "outputs": [
    {
     "name": "stdout",
     "output_type": "stream",
     "text": [
      "Singular matrix: components collapsed\n",
      "Current answer for task Task 4 (EM) is: -1064.63147304\n"
     ]
    }
   ],
   "source": [
    "best_loss, best_pi, best_mu, best_sigma = train_EM(X, 3)\n",
    "\n",
    "grader.submit_EM(best_loss)"
   ]
  },
  {
   "cell_type": "markdown",
   "metadata": {},
   "source": [
    "If you implemented all the steps correctly, your algorithm should converge in about 20 iterations. Let's plot the clusters to see it. We will assign a cluster label as the most probable cluster index. This can be found using matrix $\\gamma$ computed on last E-step. \n"
   ]
  },
  {
   "cell_type": "code",
   "execution_count": 47,
   "metadata": {},
   "outputs": [
    {
     "data": {
      "image/png": "[encoded data removed]",
      "text/plain": [
       "<matplotlib.figure.Figure at 0x10ac6ef60>"
      ]
     },
     "metadata": {},
     "output_type": "display_data"
    }
   ],
   "source": [
    "gamma = E_step(X, best_pi, best_mu, best_sigma)\n",
    "labels = gamma.argmax(1)\n",
    "plt.scatter(X[:, 0], X[:, 1], c=labels, s=30)\n",
    "plt.axis('equal')\n",
    "plt.show()"
   ]
  },
  {
   "cell_type": "markdown",
   "metadata": {},
   "source": [
    "### Authorization & Submission\n",
    "To submit assignment parts to Cousera platform, please, enter your e-mail and your token into variables below. You can generate the token on this programming assignment page. <b>Note:</b> Token expires 30 minutes after generation."
   ]
  },
  {
   "cell_type": "code",
   "execution_count": null,
   "metadata": {},
   "outputs": [],
   "source": [
    "STUDENT_EMAIL = # EMAIL HERE\n",
    "STUDENT_TOKEN = # TOKEN HERE\n",
    "grader.status()"
   ]
  },
  {
   "cell_type": "markdown",
   "metadata": {},
   "source": [
    "If you want to submit these answers, run cell below"
   ]
  },
  {
   "cell_type": "code",
   "execution_count": null,
   "metadata": {},
   "outputs": [],
   "source": [
    "grader.submit(STUDENT_EMAIL, STUDENT_TOKEN)"
   ]
  }
 ],
 "metadata": {
  "kernelspec": {
   "display_name": "tflow",
   "language": "python",
   "name": "tensorflow"
  },
  "language_info": {
   "codemirror_mode": {
    "name": "ipython",
    "version": 3
   },
   "file_extension": ".py",
   "mimetype": "text/x-python",
   "name": "python",
   "nbconvert_exporter": "python",
   "pygments_lexer": "ipython3",
   "version": "3.6.2"
  },
  "latex_envs": {
   "bibliofile": "biblio.bib",
   "cite_by": "apalike",
   "current_citInitial": 1,
   "eqLabelWithNumbers": true,
   "eqNumInitial": 0
  }
 },
 "nbformat": 4,
 "nbformat_minor": 2
}
